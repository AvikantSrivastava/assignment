{
 "cells": [
  {
   "cell_type": "code",
   "execution_count": 1,
   "id": "ea0ec04f-9900-410d-88eb-7e629389ddcc",
   "metadata": {},
   "outputs": [],
   "source": [
    "import pandas as pd\n",
    "import numpy as np\n",
    "from matplotlib import pyplot as plt\n"
   ]
  },
  {
   "cell_type": "code",
   "execution_count": 2,
   "id": "89d4c36f-7fac-45ba-b1e7-35801bf2c546",
   "metadata": {},
   "outputs": [],
   "source": [
    "df = pd.read_csv('test.csv')\n"
   ]
  },
  {
   "cell_type": "code",
   "execution_count": 3,
   "id": "bd63e263-5e9a-45a1-907d-dd767869b0cd",
   "metadata": {},
   "outputs": [
    {
     "data": {
      "text/html": [
       "<div>\n",
       "<style scoped>\n",
       "    .dataframe tbody tr th:only-of-type {\n",
       "        vertical-align: middle;\n",
       "    }\n",
       "\n",
       "    .dataframe tbody tr th {\n",
       "        vertical-align: top;\n",
       "    }\n",
       "\n",
       "    .dataframe thead th {\n",
       "        text-align: right;\n",
       "    }\n",
       "</style>\n",
       "<table border=\"1\" class=\"dataframe\">\n",
       "  <thead>\n",
       "    <tr style=\"text-align: right;\">\n",
       "      <th></th>\n",
       "      <th>timestamp</th>\n",
       "      <th>computation capacity being used</th>\n",
       "      <th>Total provisoned load</th>\n",
       "    </tr>\n",
       "  </thead>\n",
       "  <tbody>\n",
       "    <tr>\n",
       "      <th>0</th>\n",
       "      <td>12:01:28 AM</td>\n",
       "      <td>6072</td>\n",
       "      <td>4000</td>\n",
       "    </tr>\n",
       "    <tr>\n",
       "      <th>1</th>\n",
       "      <td>12:01:29 AM</td>\n",
       "      <td>5697</td>\n",
       "      <td>4000</td>\n",
       "    </tr>\n",
       "    <tr>\n",
       "      <th>2</th>\n",
       "      <td>12:01:38 AM</td>\n",
       "      <td>5807</td>\n",
       "      <td>4000</td>\n",
       "    </tr>\n",
       "    <tr>\n",
       "      <th>3</th>\n",
       "      <td>12:03:24 AM</td>\n",
       "      <td>67</td>\n",
       "      <td>4000</td>\n",
       "    </tr>\n",
       "    <tr>\n",
       "      <th>4</th>\n",
       "      <td>12:05:12 AM</td>\n",
       "      <td>5895</td>\n",
       "      <td>4000</td>\n",
       "    </tr>\n",
       "    <tr>\n",
       "      <th>5</th>\n",
       "      <td>5:38:58 AM</td>\n",
       "      <td>1021</td>\n",
       "      <td>4000</td>\n",
       "    </tr>\n",
       "    <tr>\n",
       "      <th>6</th>\n",
       "      <td>5:38:59 AM</td>\n",
       "      <td>912</td>\n",
       "      <td>4000</td>\n",
       "    </tr>\n",
       "    <tr>\n",
       "      <th>7</th>\n",
       "      <td>9:25:37 AM</td>\n",
       "      <td>5989</td>\n",
       "      <td>4000</td>\n",
       "    </tr>\n",
       "    <tr>\n",
       "      <th>8</th>\n",
       "      <td>9:25:38 AM</td>\n",
       "      <td>2760</td>\n",
       "      <td>4000</td>\n",
       "    </tr>\n",
       "    <tr>\n",
       "      <th>9</th>\n",
       "      <td>1:55:00 PM</td>\n",
       "      <td>508</td>\n",
       "      <td>4000</td>\n",
       "    </tr>\n",
       "    <tr>\n",
       "      <th>10</th>\n",
       "      <td>1:55:01 PM</td>\n",
       "      <td>505</td>\n",
       "      <td>4000</td>\n",
       "    </tr>\n",
       "    <tr>\n",
       "      <th>11</th>\n",
       "      <td>4:11:24 PM</td>\n",
       "      <td>5540</td>\n",
       "      <td>4000</td>\n",
       "    </tr>\n",
       "    <tr>\n",
       "      <th>12</th>\n",
       "      <td>4:11:25 PM</td>\n",
       "      <td>4427</td>\n",
       "      <td>4000</td>\n",
       "    </tr>\n",
       "    <tr>\n",
       "      <th>13</th>\n",
       "      <td>6:26:34 PM</td>\n",
       "      <td>10503</td>\n",
       "      <td>4000</td>\n",
       "    </tr>\n",
       "    <tr>\n",
       "      <th>14</th>\n",
       "      <td>6:26:35 PM</td>\n",
       "      <td>13760</td>\n",
       "      <td>4000</td>\n",
       "    </tr>\n",
       "    <tr>\n",
       "      <th>15</th>\n",
       "      <td>6:30:11 PM</td>\n",
       "      <td>7385</td>\n",
       "      <td>4000</td>\n",
       "    </tr>\n",
       "    <tr>\n",
       "      <th>16</th>\n",
       "      <td>8:42:14 PM</td>\n",
       "      <td>1002</td>\n",
       "      <td>4000</td>\n",
       "    </tr>\n",
       "    <tr>\n",
       "      <th>17</th>\n",
       "      <td>8:42:15 PM</td>\n",
       "      <td>1686</td>\n",
       "      <td>4000</td>\n",
       "    </tr>\n",
       "    <tr>\n",
       "      <th>18</th>\n",
       "      <td>8:42:16 PM</td>\n",
       "      <td>2386</td>\n",
       "      <td>4000</td>\n",
       "    </tr>\n",
       "    <tr>\n",
       "      <th>19</th>\n",
       "      <td>11:52:55 PM</td>\n",
       "      <td>11</td>\n",
       "      <td>4000</td>\n",
       "    </tr>\n",
       "    <tr>\n",
       "      <th>20</th>\n",
       "      <td>11:52:56 PM</td>\n",
       "      <td>5</td>\n",
       "      <td>4000</td>\n",
       "    </tr>\n",
       "    <tr>\n",
       "      <th>21</th>\n",
       "      <td>11:57:16 PM</td>\n",
       "      <td>1241</td>\n",
       "      <td>4000</td>\n",
       "    </tr>\n",
       "  </tbody>\n",
       "</table>\n",
       "</div>"
      ],
      "text/plain": [
       "      timestamp  computation capacity being used  Total provisoned load \n",
       "0   12:01:28 AM                             6072                    4000\n",
       "1   12:01:29 AM                             5697                    4000\n",
       "2   12:01:38 AM                             5807                    4000\n",
       "3   12:03:24 AM                               67                    4000\n",
       "4   12:05:12 AM                             5895                    4000\n",
       "5    5:38:58 AM                             1021                    4000\n",
       "6    5:38:59 AM                              912                    4000\n",
       "7    9:25:37 AM                             5989                    4000\n",
       "8    9:25:38 AM                             2760                    4000\n",
       "9    1:55:00 PM                              508                    4000\n",
       "10   1:55:01 PM                              505                    4000\n",
       "11   4:11:24 PM                             5540                    4000\n",
       "12   4:11:25 PM                             4427                    4000\n",
       "13   6:26:34 PM                            10503                    4000\n",
       "14   6:26:35 PM                            13760                    4000\n",
       "15   6:30:11 PM                             7385                    4000\n",
       "16   8:42:14 PM                             1002                    4000\n",
       "17   8:42:15 PM                             1686                    4000\n",
       "18   8:42:16 PM                             2386                    4000\n",
       "19  11:52:55 PM                               11                    4000\n",
       "20  11:52:56 PM                                5                    4000\n",
       "21  11:57:16 PM                             1241                    4000"
      ]
     },
     "execution_count": 3,
     "metadata": {},
     "output_type": "execute_result"
    }
   ],
   "source": [
    "df\n"
   ]
  },
  {
   "cell_type": "code",
   "execution_count": 4,
   "id": "a0a26a41-e572-472a-ae6f-a04ee53c2141",
   "metadata": {},
   "outputs": [],
   "source": [
    "numbers = df['computation capacity being used'].tolist()"
   ]
  },
  {
   "cell_type": "code",
   "execution_count": 5,
   "id": "8aeb8f2f-20da-4fb6-91eb-70c802bb9b62",
   "metadata": {},
   "outputs": [],
   "source": [
    "def loss_function(x,i):\n",
    "    if i > x:\n",
    "        return 2* (i-x)\n",
    "    else:\n",
    "        return x-i"
   ]
  },
  {
   "cell_type": "code",
   "execution_count": 6,
   "id": "4e8afb48-3d81-4660-8703-6fcc764f82e2",
   "metadata": {},
   "outputs": [],
   "source": [
    "def error_function(x):\n",
    "    return sum([loss_function(x, i) for i in numbers]) / len(numbers)\n",
    "    "
   ]
  },
  {
   "cell_type": "code",
   "execution_count": 7,
   "id": "9baf66d3-c3b4-461e-b6da-475a9c183777",
   "metadata": {},
   "outputs": [],
   "source": [
    "plt.rcParams[\"figure.figsize\"] = [7.50, 3.50]\n",
    "plt.rcParams[\"figure.autolayout\"] = True\n",
    "\n",
    "x = np.arange(1000, 10000, 1)\n"
   ]
  },
  {
   "cell_type": "code",
   "execution_count": 10,
   "id": "04bf4c72-418e-421a-b4c4-ca6d6c4b51ed",
   "metadata": {},
   "outputs": [],
   "source": [
    "y = [error_function(i) for i in x]\n"
   ]
  },
  {
   "cell_type": "code",
   "execution_count": 11,
   "id": "eadb2cbb-15f2-433f-9944-682457f20b66",
   "metadata": {},
   "outputs": [
    {
     "data": {
      "image/png": "[encoded data removed]",
      "text/plain": [
       "<Figure size 540x252 with 1 Axes>"
      ]
     },
     "metadata": {
      "needs_background": "light"
     },
     "output_type": "display_data"
    }
   ],
   "source": [
    "plt.plot(x, y)\n",
    "plt.xlabel(\"prepaid compute units\")\n",
    "plt.ylabel(\"error\")\n",
    "\n",
    "plt.show()"
   ]
  },
  {
   "cell_type": "markdown",
   "id": "fe1db88a-81c4-40e0-bd83-11f341e62f04",
   "metadata": {},
   "source": [
    "## Function to find the minimum error"
   ]
  },
  {
   "cell_type": "code",
   "execution_count": 12,
   "id": "445f504e-3239-4a2e-84ed-31ee9d0c4568",
   "metadata": {},
   "outputs": [],
   "source": [
    "from scipy import optimize\n"
   ]
  },
  {
   "cell_type": "code",
   "execution_count": 14,
   "id": "b6aab1f2-6489-419a-9560-231dde6e6357",
   "metadata": {},
   "outputs": [
    {
     "name": "stdout",
     "output_type": "stream",
     "text": [
      "Optimization terminated successfully.\n",
      "         Current function value: 4034.136364\n",
      "         Iterations: 41\n",
      "         Function evaluations: 82\n"
     ]
    }
   ],
   "source": [
    "minimum = optimize.fmin(error_function, 1)"
   ]
  },
  {
   "cell_type": "code",
   "execution_count": 15,
   "id": "b4405c3e-c6f8-4483-b6d9-3ba1a4eddae4",
   "metadata": {},
   "outputs": [
    {
     "data": {
      "text/plain": [
       "5697.000000000012"
      ]
     },
     "execution_count": 15,
     "metadata": {},
     "output_type": "execute_result"
    }
   ],
   "source": [
    "minimum[0]"
   ]
  },
  {
   "cell_type": "code",
   "execution_count": null,
   "id": "3890d0a1-cf75-4cc3-a980-e22f652f2b69",
   "metadata": {},
   "outputs": [],
   "source": []
  }
 ],
 "metadata": {
  "kernelspec": {
   "display_name": "Python 3 (ipykernel)",
   "language": "python",
   "name": "python3"
  },
  "language_info": {
   "codemirror_mode": {
    "name": "ipython",
    "version": 3
   },
   "file_extension": ".py",
   "mimetype": "text/x-python",
   "name": "python",
   "nbconvert_exporter": "python",
   "pygments_lexer": "ipython3",
   "version": "3.9.7"
  }
 },
 "nbformat": 4,
 "nbformat_minor": 5
}
